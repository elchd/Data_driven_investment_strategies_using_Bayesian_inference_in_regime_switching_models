{
 "cells": [
  {
   "cell_type": "code",
   "execution_count": 1,
   "id": "ef289e71",
   "metadata": {},
   "outputs": [
    {
     "name": "stderr",
     "output_type": "stream",
     "text": [
      "/opt/anaconda3/lib/python3.9/site-packages/pandas/core/arrays/masked.py:60: UserWarning: Pandas requires version '1.3.6' or newer of 'bottleneck' (version '1.3.5' currently installed).\n",
      "  from pandas.core import (\n"
     ]
    }
   ],
   "source": [
    "import os\n",
    "os.chdir('../../') #Se situer dans le dossier où le dossier de la librairie nma_hmm est situé\n",
    "\n",
    "path_y = os.getcwd() + '/Results/simul/y/' #Choisir le chemin où se situent les y\n",
    "path_res = os.getcwd() + '/Results/simul/res/' #Choisir le chemin dans lequel stocker les résultats\n",
    "\n",
    "from inference_nma_hmm.operations import *\n",
    "from joblib import Parallel, delayed\n",
    "\n",
    "ν = np.array([.05, .9, 0.1])\n",
    "Q = np.array([[0.8, 0.05, 0.15],[0.05, 0.8, 0.15],[0.025, 0.025, 0.95]])\n",
    "M = np.array([-.04, 0, .02])\n",
    "\n",
    "T, K = 1000, len(ν)\n",
    "nsimul = 1 #Choisir le nombre d'itérations\n",
    "Σ, seeds, L = [0.005], np.arange(nsimul), [0]\n",
    "\n",
    "nparallel = 4 #Choisir le nombre de processeurs utiliser (-1 = tous)\n",
    "\n",
    "def compute_results(σ, seed, l, ν, Q, M, T, path_y, path_res, train_test_split=0.7, n_iter=15, n_burnin=5):\n",
    "    K = len(ν)\n",
    "    \n",
    "    y = np.asarray(np.load(path_y + 'y_sigma' + str(σ) + '_' + str(seed) + '.npy', 'r'))\n",
    "    \n",
    "    g = gibbs(K, l, train_test_split, y)\n",
    "    g.algorithm_est_ma(n_iter, n_burnin)\n",
    "    \n",
    "    x_all = np.array([g.res[k]['x_oos'] for k in g.res.keys()])\n",
    "    res_sum = {'M': np.mean([g.res[k]['M'] for k in g.res.keys()], axis=0),\n",
    "           'Σ': np.mean([g.res[k]['Σ'] for k in g.res.keys()], axis=0),\n",
    "           'ν': np.mean([g.res[k]['ν'] for k in g.res.keys()], axis=0),\n",
    "           'Q': np.mean([g.res[k]['Q'] for k in g.res.keys()], axis=0), \n",
    "           'x_c': np.mean(x_all, axis=0),\n",
    "           'x_b': np.apply_along_axis(lambda x: np.argmax(np.bincount(x)), axis=0, arr=x_all.astype(int))}\n",
    "    \n",
    "    return res_sum"
   ]
  },
  {
   "cell_type": "code",
   "execution_count": 2,
   "id": "fe437cf7",
   "metadata": {},
   "outputs": [
    {
     "data": {
      "application/vnd.jupyter.widget-view+json": {
       "model_id": "054e1e6effd84c199e1e74319ccf7b8c",
       "version_major": 2,
       "version_minor": 0
      },
      "text/plain": [
       "  0%|          | 0/15 [00:00<?, ?it/s]"
      ]
     },
     "metadata": {},
     "output_type": "display_data"
    },
    {
     "data": {
      "text/plain": [
       "{'M': array([-0.04051447,  0.01666966,  0.01988531]),\n",
       " 'Σ': array([0.00533243, 0.00898059, 0.00024091]),\n",
       " 'ν': array([0.09707472, 0.86804547, 0.03487981]),\n",
       " 'Q': array([[0.65505598, 0.30390707, 0.04103695],\n",
       "        [0.03575526, 0.93069997, 0.03354478],\n",
       "        [0.09748998, 0.74622124, 0.15628878]]),\n",
       " 'x_c': array([0.        , 0.        , 0.        , 0.        , 0.        ,\n",
       "        0.        , 0.        , 0.        , 0.        , 0.        ,\n",
       "        0.        , 1.        , 1.        , 1.        , 1.        ,\n",
       "        1.        , 1.        , 1.        , 1.        , 1.        ,\n",
       "        1.        , 1.        , 1.        , 1.        , 1.        ,\n",
       "        1.        , 1.11111111, 1.        , 1.        , 1.        ,\n",
       "        1.        , 1.        , 1.        , 1.        , 1.        ,\n",
       "        1.        , 1.        , 1.11111111, 0.        , 1.        ,\n",
       "        1.        , 1.        , 0.        , 1.        , 1.        ,\n",
       "        1.        , 1.        , 1.        , 1.        , 1.        ,\n",
       "        1.        , 1.33333333, 1.        , 1.        , 0.        ,\n",
       "        0.        , 1.        , 1.        , 1.        , 1.        ,\n",
       "        1.        , 1.        , 1.        , 1.        , 1.        ,\n",
       "        1.        , 1.        , 1.        , 1.        , 1.        ,\n",
       "        1.        , 1.        , 1.        , 1.        , 1.        ,\n",
       "        1.        , 1.        , 1.        , 1.        , 1.        ,\n",
       "        1.        , 1.        , 1.        , 0.        , 0.        ,\n",
       "        1.        , 1.        , 1.        , 1.        , 1.        ,\n",
       "        1.        , 1.        , 1.        , 1.        , 1.        ,\n",
       "        1.        , 1.        , 1.        , 1.        , 1.        ,\n",
       "        1.        , 1.        , 0.        , 0.        , 1.        ,\n",
       "        1.        , 1.        , 1.        , 1.        , 0.        ,\n",
       "        1.        , 1.        , 1.        , 1.        , 1.        ,\n",
       "        1.        , 1.        , 1.55555556, 1.66666667, 1.        ,\n",
       "        1.        , 1.        , 1.        , 1.        , 1.66666667,\n",
       "        1.        , 1.        , 1.        , 1.        , 1.        ,\n",
       "        1.        , 1.        , 1.        , 1.        , 1.        ,\n",
       "        1.        , 1.        , 1.        , 0.        , 0.        ,\n",
       "        0.        , 1.11111111, 1.        , 1.        , 1.        ,\n",
       "        1.        , 1.        , 1.        , 1.        , 1.        ,\n",
       "        1.        , 1.        , 1.        , 1.55555556, 1.        ,\n",
       "        1.33333333, 1.        , 1.        , 1.        , 1.        ,\n",
       "        1.        , 1.55555556, 1.        , 1.        , 1.55555556,\n",
       "        1.        , 1.        , 1.        , 1.        , 1.11111111,\n",
       "        1.        , 1.        , 1.        , 1.        , 1.        ,\n",
       "        1.        , 1.        , 1.        , 1.        , 1.        ,\n",
       "        1.        , 1.        , 1.        , 1.        , 1.        ,\n",
       "        1.        , 1.        , 1.        , 1.        , 1.88888889,\n",
       "        1.        , 1.        , 1.33333333, 1.        , 1.        ,\n",
       "        1.        , 1.        , 1.44444444, 1.        , 1.        ,\n",
       "        1.        , 1.        , 1.        , 1.        , 1.        ,\n",
       "        1.        , 1.        , 1.        , 1.        , 1.        ,\n",
       "        1.55555556, 1.        , 1.        , 1.        , 1.        ,\n",
       "        1.22222222, 1.        , 1.        , 1.        , 1.        ,\n",
       "        1.        , 1.        , 1.        , 1.        , 1.        ,\n",
       "        1.        , 1.        , 1.        , 1.        , 1.        ,\n",
       "        1.        , 1.        , 1.22222222, 1.        , 1.        ,\n",
       "        1.        , 1.        , 1.        , 1.        , 1.        ,\n",
       "        1.        , 1.        , 1.        , 1.        , 1.        ,\n",
       "        1.        , 1.        , 1.        , 1.        , 1.        ,\n",
       "        1.33333333, 1.        , 1.        , 1.        , 1.        ,\n",
       "        0.        , 1.        , 1.        , 1.        , 1.        ,\n",
       "        1.        , 1.        , 1.        , 1.        , 1.        ,\n",
       "        1.        , 1.        , 1.        , 1.        , 1.        ,\n",
       "        1.        , 1.        , 1.11111111, 1.        , 1.        ,\n",
       "        1.        , 1.        , 1.        , 1.        , 1.        ,\n",
       "        1.        , 1.        , 1.        , 1.        , 1.        ,\n",
       "        1.        , 1.        , 1.        , 1.        , 1.        ,\n",
       "        1.        , 1.        , 1.        , 1.        , 1.        ,\n",
       "        1.        , 1.        , 1.        , 1.        , 1.        ]),\n",
       " 'x_b': array([0, 0, 0, 0, 0, 0, 0, 0, 0, 0, 0, 1, 1, 1, 1, 1, 1, 1, 1, 1, 1, 1,\n",
       "        1, 1, 1, 1, 1, 1, 1, 1, 1, 1, 1, 1, 1, 1, 1, 1, 0, 1, 1, 1, 0, 1,\n",
       "        1, 1, 1, 1, 1, 1, 1, 1, 1, 1, 0, 0, 1, 1, 1, 1, 1, 1, 1, 1, 1, 1,\n",
       "        1, 1, 1, 1, 1, 1, 1, 1, 1, 1, 1, 1, 1, 1, 1, 1, 1, 0, 0, 1, 1, 1,\n",
       "        1, 1, 1, 1, 1, 1, 1, 1, 1, 1, 1, 1, 1, 1, 0, 0, 1, 1, 1, 1, 1, 0,\n",
       "        1, 1, 1, 1, 1, 1, 1, 2, 2, 1, 1, 1, 1, 1, 2, 1, 1, 1, 1, 1, 1, 1,\n",
       "        1, 1, 1, 1, 1, 1, 0, 0, 0, 1, 1, 1, 1, 1, 1, 1, 1, 1, 1, 1, 1, 2,\n",
       "        1, 1, 1, 1, 1, 1, 1, 2, 1, 1, 2, 1, 1, 1, 1, 1, 1, 1, 1, 1, 1, 1,\n",
       "        1, 1, 1, 1, 1, 1, 1, 1, 1, 1, 1, 1, 1, 2, 1, 1, 1, 1, 1, 1, 1, 1,\n",
       "        1, 1, 1, 1, 1, 1, 1, 1, 1, 1, 1, 1, 2, 1, 1, 1, 1, 1, 1, 1, 1, 1,\n",
       "        1, 1, 1, 1, 1, 1, 1, 1, 1, 1, 1, 1, 1, 1, 1, 1, 1, 1, 1, 1, 1, 1,\n",
       "        1, 1, 1, 1, 1, 1, 1, 1, 1, 1, 1, 1, 1, 0, 1, 1, 1, 1, 1, 1, 1, 1,\n",
       "        1, 1, 1, 1, 1, 1, 1, 1, 1, 1, 1, 1, 1, 1, 1, 1, 1, 1, 1, 1, 1, 1,\n",
       "        1, 1, 1, 1, 1, 1, 1, 1, 1, 1, 1, 1, 1, 1])}"
      ]
     },
     "execution_count": 2,
     "metadata": {},
     "output_type": "execute_result"
    }
   ],
   "source": [
    "seed, σ, l = 0, 0.005, 0\n",
    "compute_results(σ, seed, l, ν, Q, M, T, path_y, path_res)"
   ]
  },
  {
   "cell_type": "code",
   "execution_count": null,
   "id": "af6608d8",
   "metadata": {},
   "outputs": [],
   "source": []
  }
 ],
 "metadata": {
  "kernelspec": {
   "display_name": "Python 3 (ipykernel)",
   "language": "python",
   "name": "python3"
  },
  "language_info": {
   "codemirror_mode": {
    "name": "ipython",
    "version": 3
   },
   "file_extension": ".py",
   "mimetype": "text/x-python",
   "name": "python",
   "nbconvert_exporter": "python",
   "pygments_lexer": "ipython3",
   "version": "3.9.13"
  }
 },
 "nbformat": 4,
 "nbformat_minor": 5
}
