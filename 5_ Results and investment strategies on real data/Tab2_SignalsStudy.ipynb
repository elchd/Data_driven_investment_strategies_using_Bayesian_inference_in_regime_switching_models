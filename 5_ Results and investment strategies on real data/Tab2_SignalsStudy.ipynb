{
 "cells": [
  {
   "cell_type": "markdown",
   "id": "3ae03cd7",
   "metadata": {},
   "source": [
    "## 5 Results and investment strategies on real data\n",
    "### 5.2 Signals study"
   ]
  },
  {
   "cell_type": "code",
   "execution_count": 1,
   "id": "1c295439",
   "metadata": {},
   "outputs": [],
   "source": [
    "import os\n",
    "path = os.getcwd() + '/results/'\n",
    "\n",
    "os.chdir('../')\n",
    "from inference_mahmm import *"
   ]
  },
  {
   "cell_type": "markdown",
   "id": "ee3e9e24",
   "metadata": {},
   "source": [
    "##### Results recuperation"
   ]
  },
  {
   "cell_type": "code",
   "execution_count": 2,
   "id": "0305b63f",
   "metadata": {},
   "outputs": [],
   "source": [
    "y, dates = np.load(path + 'y_msciworld_L0_monthly.npy'), np.load(path + 'dates_msciworld_L0_monthly.npy')\n",
    "dates = [pd.to_datetime(d) for d in dates]\n",
    "\n",
    "xb_L0, xc_L0 = np.load(path + 'xb_msciworld_L0_monthly.npy'), np.load(path + 'xc_msciworld_L0_monthly.npy')\n",
    "xb_L2, xc_L2 = np.load(path + 'xb_msciworld_L2_monthly.npy'), np.load(path + 'xc_msciworld_L2_monthly.npy')\n",
    "xb_L5, xc_L5 = np.load(path + 'xb_msciworld_L5_monthly.npy'), np.load(path + 'xc_msciworld_L5_monthly.npy')\n",
    "xb_L8, xc_L8 = np.load(path + 'xb_msciworld_L8_monthly.npy'), np.load(path + 'xc_msciworld_L8_monthly.npy')\n",
    "xb_L10, xc_L10 = np.load(path + 'xb_msciworld_L10_monthly.npy'), np.load(path + 'xc_msciworld_L10_monthly.npy')\n",
    "xb_Lvar, xc_Lvar = np.load(path + 'xb_msciworld_Lvar_monthly.npy'), np.load(path + 'xc_msciworld_Lvar_monthly.npy')\n",
    "\n",
    "sds0 = np.array([np.load(path + f'di1_msciworld_L{l}_monthly.npy') for l in [0, 2, 5, 8, 10, 'var']])\n",
    "sds1 = np.array([np.load(path + f'di2_msciworld_L{l}_monthly.npy') for l in [0, 2, 5, 8, 10, 'var']])"
   ]
  },
  {
   "cell_type": "code",
   "execution_count": 3,
   "id": "774a6209",
   "metadata": {},
   "outputs": [],
   "source": [
    "xb_all, xc_all = [np.ones(len(xb_L0)), xb_L0, xb_L2, xb_L5, xb_L8, xb_L10, xb_Lvar], [np.ones(len(xc_L0)), xc_L0, xc_L2, xc_L5, xc_L8, xc_L10, xc_Lvar]\n",
    "signal_all = ['Benchmark', 'HMM', 'MA(2)-HMM', 'MA(5)-HMM', 'MA(8)-HMM', 'MA(10)-HMM', 'MA(L)-HMM with varying L']"
   ]
  },
  {
   "cell_type": "code",
   "execution_count": 4,
   "id": "08736364",
   "metadata": {},
   "outputs": [],
   "source": [
    "d0, d1 = [], []\n",
    "for xb in xb_all[1:]:\n",
    "    x_split = np.split(xb, np.where(np.diff(xb) != 0)[0] + 1)\n",
    "    d0.append(np.mean([len(x) for x in x_split if x[0]==0]))\n",
    "    d1.append(np.mean([len(x) for x in x_split if x[0]==1]))"
   ]
  },
  {
   "cell_type": "code",
   "execution_count": 5,
   "id": "3d4079d0",
   "metadata": {},
   "outputs": [],
   "source": [
    "all_di1 = [np.load(path + 'di1_msciworld_L' + str(L) + '_monthly.npy') for L in [0, 2, 5, 8, 10, 'var']]\n",
    "all_di2 = [np.load(path + 'di2_msciworld_L' + str(L) + '_monthly.npy') for L in [0, 2, 5, 8, 10, 'var']]"
   ]
  },
  {
   "cell_type": "markdown",
   "id": "874bddf2",
   "metadata": {},
   "source": [
    "##### Signals study"
   ]
  },
  {
   "cell_type": "code",
   "execution_count": 6,
   "id": "d320a13f",
   "metadata": {},
   "outputs": [
    {
     "name": "stdout",
     "output_type": "stream",
     "text": [
      "Average duration\n",
      "                          Bull regime  Bear regime\n",
      "HMM                             19.65         7.47\n",
      "MA(2)-HMM                        7.94         4.87\n",
      "MA(5)-HMM                       12.83         8.27\n",
      "MA(8)-HMM                       15.07        10.29\n",
      "MA(10)-HMM                      17.18        11.80\n",
      "MA(L)-HMM with varying L        13.84         9.91\n",
      "\n",
      " Back-and-forth switching rate\n",
      "                          Back-and-forth switching rate\n",
      "HMM                                                2.29\n",
      "MA(2)-HMM                                          1.90\n",
      "MA(5)-HMM                                          1.06\n",
      "MA(8)-HMM                                          0.77\n",
      "MA(10)-HMM                                         0.25\n",
      "MA(L)-HMM with varying L                           1.02\n",
      "SDS\n",
      "                          Bull regime  Bear regime\n",
      "HMM                              5.27         2.55\n",
      "MA(2)-HMM                        0.60         0.50\n",
      "MA(5)-HMM                        0.61         0.48\n",
      "MA(8)-HMM                        0.64         0.45\n",
      "MA(10)-HMM                       0.67         0.49\n",
      "MA(L)-HMM with varying L         0.54         0.43\n"
     ]
    }
   ],
   "source": [
    "print('Average duration')\n",
    "df_signal = pd.DataFrame({'Bull regime': d1,\n",
    "                          'Bear regime': d0})\n",
    "df_signal.index = signal_all[1:]\n",
    "print(df_signal.round(2))\n",
    "\n",
    "print('\\n Back-and-forth switching rate')\n",
    "df_signal = pd.DataFrame({'Back-and-forth switching rate': [compute_back_and_forth_rate(xb)*100 for xb in xb_all[1:]]})\n",
    "df_signal.index = signal_all[1:]\n",
    "print(df_signal.round(2))\n",
    "\n",
    "print('SDS')\n",
    "df_signal = pd.DataFrame({'Bull regime': [np.median(d) for d in all_di1],\n",
    "                          'Bear regime': [np.median(d) for d in all_di2]})\n",
    "df_signal.index = signal_all[1:]\n",
    "print(df_signal.round(2))"
   ]
  }
 ],
 "metadata": {
  "kernelspec": {
   "display_name": "Python 3 (ipykernel)",
   "language": "python",
   "name": "python3"
  },
  "language_info": {
   "codemirror_mode": {
    "name": "ipython",
    "version": 3
   },
   "file_extension": ".py",
   "mimetype": "text/x-python",
   "name": "python",
   "nbconvert_exporter": "python",
   "pygments_lexer": "ipython3",
   "version": "3.9.13"
  }
 },
 "nbformat": 4,
 "nbformat_minor": 5
}
