{
 "cells": [
  {
   "cell_type": "markdown",
   "id": "6d0150a3",
   "metadata": {},
   "source": [
    "## 4 Simulation experiments on the impact of $L$ and strategies\n",
    "### 4.2 Strategies study"
   ]
  },
  {
   "cell_type": "code",
   "execution_count": 1,
   "id": "e17b6d6d",
   "metadata": {},
   "outputs": [],
   "source": [
    "import os\n",
    "path = os.getcwd() + '/Results/'\n",
    "\n",
    "os.chdir('../')\n",
    "from inference_mahmm import *\n",
    "\n",
    "import seaborn as sns\n",
    "from tqdm.notebook import tqdm\n",
    "\n",
    "palette = sns.color_palette(\"husl\", 5)"
   ]
  },
  {
   "cell_type": "markdown",
   "id": "53d88bc1",
   "metadata": {},
   "source": [
    "##### Results recuperation"
   ]
  },
  {
   "cell_type": "code",
   "execution_count": 2,
   "id": "aad9fdcf",
   "metadata": {},
   "outputs": [],
   "source": [
    "M = np.array([-.04, 0, .02])\n",
    "mindiff_M = np.min(np.abs(M[0]-M[1:])), np.min(np.abs(M[1]-M[[0,2]])), np.min(np.abs(M[2]-M[:-1]))\n",
    "\n",
    "Σ, seeds, L = [0.01, 0.02, 0.04, 0.06, 0.08, 0.1], np.arange(1000), [0, 2, 5, 8, 10]\n",
    "fees = [0, 0.0005, 0.001, 0.002]"
   ]
  },
  {
   "cell_type": "code",
   "execution_count": 3,
   "id": "9a888352",
   "metadata": {},
   "outputs": [
    {
     "data": {
      "application/vnd.jupyter.widget-view+json": {
       "model_id": "0390ab6c6a034625836c9feee1a21b82",
       "version_major": 2,
       "version_minor": 0
      },
      "text/plain": [
       "0it [00:00, ?it/s]"
      ]
     },
     "metadata": {},
     "output_type": "display_data"
    },
    {
     "data": {
      "application/vnd.jupyter.widget-view+json": {
       "model_id": "946301929f3e4e1986eb47ab00c1018d",
       "version_major": 2,
       "version_minor": 0
      },
      "text/plain": [
       "0it [00:00, ?it/s]"
      ]
     },
     "metadata": {},
     "output_type": "display_data"
    },
    {
     "data": {
      "application/vnd.jupyter.widget-view+json": {
       "model_id": "af0b656896ac4ea987cffd24c3323071",
       "version_major": 2,
       "version_minor": 0
      },
      "text/plain": [
       "0it [00:00, ?it/s]"
      ]
     },
     "metadata": {},
     "output_type": "display_data"
    },
    {
     "data": {
      "application/vnd.jupyter.widget-view+json": {
       "model_id": "da01a1d8f0a646d58349e036e526c152",
       "version_major": 2,
       "version_minor": 0
      },
      "text/plain": [
       "0it [00:00, ?it/s]"
      ]
     },
     "metadata": {},
     "output_type": "display_data"
    },
    {
     "data": {
      "application/vnd.jupyter.widget-view+json": {
       "model_id": "b868f4e5e3ca43ecaa5d6f6a49ff5f36",
       "version_major": 2,
       "version_minor": 0
      },
      "text/plain": [
       "0it [00:00, ?it/s]"
      ]
     },
     "metadata": {},
     "output_type": "display_data"
    },
    {
     "data": {
      "application/vnd.jupyter.widget-view+json": {
       "model_id": "595e336217204f4dae2af8017add9dda",
       "version_major": 2,
       "version_minor": 0
      },
      "text/plain": [
       "0it [00:00, ?it/s]"
      ]
     },
     "metadata": {},
     "output_type": "display_data"
    }
   ],
   "source": [
    "ir, ir_c = np.zeros((len(Σ), len(seeds), len(L), len(fees))), np.zeros((len(Σ), len(seeds), len(L), len(fees)))\n",
    "\n",
    "for si, σ in enumerate(Σ):\n",
    "    for seedi, seed in tqdm(enumerate(seeds)):\n",
    "        \n",
    "        y = np.asarray(np.load(path + 'y/y_sigma' + str(σ) + '_' + str(seed) + '.npy', 'r'))\n",
    "        true_x = np.asarray(np.load(path + 'true_x/true_x_' + str(seed) + '.npy', 'r'))\n",
    "        \n",
    "        for li, l in enumerate(L):\n",
    "            with open(path + 'res/res_up_L' + str(l) + '_sigma' + str(σ) + '_' + str(seed) + '.pickle', 'rb') as handle:\n",
    "                res = pickle.load(handle)\n",
    "                \n",
    "            x_c = res['x_c']\n",
    "            x = res['x_b']\n",
    "\n",
    "            if res['M'][1] > 0:\n",
    "                x[x == 1] = 2\n",
    "            else:\n",
    "                x[x == 1] = 0\n",
    "        \n",
    "            ir[si, seedi, li] = [compute_sr_strat(x, y[-len(x):]/100, np.zeros(len(x)), fees = fee) for fee in fees]\n",
    "            ir_c[si, seedi, li] = [compute_sr_strat(x_c, y[-len(x):]/100, np.zeros(len(x)), fees = fee) for fee in fees]"
   ]
  },
  {
   "cell_type": "markdown",
   "id": "531a0ed1",
   "metadata": {},
   "source": [
    "##### Binary signal"
   ]
  },
  {
   "cell_type": "code",
   "execution_count": 4,
   "id": "359c6b31",
   "metadata": {
    "scrolled": false
   },
   "outputs": [
    {
     "name": "stdout",
     "output_type": "stream",
     "text": [
      "No transaction fee\n",
      "L        0      2      5      8      10\n",
      "ASDS                                   \n",
      "0.42  17.18  14.72  13.21  11.78  11.00\n",
      "0.83  10.99  10.19   9.33   8.55   8.14\n",
      "1.67   5.22   5.13   4.88   4.56   4.43\n",
      "2.50   3.15   3.20   3.06   2.88   2.83\n",
      "3.33   2.28   2.27   2.17   2.11   2.07\n",
      "4.17   1.69   1.75   1.66   1.63   1.59\n",
      "\n",
      "0.5bp transaction fees\n",
      "L       0     2     5     8     10\n",
      "ASDS                              \n",
      "0.42  9.34  7.14  8.06  7.94  7.64\n",
      "0.83  6.81  3.13  5.07  5.46  5.47\n",
      "1.67  3.31 -0.32  1.72  2.26  2.45\n",
      "2.50  0.75 -1.08  0.55  1.12  1.30\n",
      "3.33 -0.29 -1.23  0.14  0.63  0.78\n",
      "4.17 -0.95 -1.17 -0.01  0.39  0.52\n",
      "\n",
      "1.0bp transaction fees\n",
      "L       0     2     5     8     10\n",
      "ASDS                              \n",
      "0.42  4.27  2.40  3.95  4.38  4.40\n",
      "0.83  3.40 -0.87  1.76  2.64  2.95\n",
      "1.67  1.71 -3.65 -0.71  0.32  0.64\n",
      "2.50 -0.95 -4.07 -1.49 -0.49 -0.09\n",
      "3.33 -2.43 -3.93 -1.57 -0.69 -0.38\n",
      "4.17 -2.97 -3.55 -1.53 -0.77 -0.49\n",
      "\n",
      "2.0bp transaction fees\n",
      "L       0     2     5     8     10\n",
      "ASDS                              \n",
      "0.42  0.06 -1.25  0.25  0.85  1.01\n",
      "0.83 -0.08 -3.80 -1.32 -0.37  0.11\n",
      "1.67 -0.37 -6.14 -3.14 -1.97 -1.53\n",
      "2.50 -3.27 -6.65 -3.79 -2.49 -2.00\n",
      "3.33 -5.10 -6.58 -3.73 -2.57 -2.16\n",
      "4.17 -5.50 -6.21 -3.62 -2.48 -2.08\n"
     ]
    }
   ],
   "source": [
    "for fi, fee in enumerate(fees):\n",
    "    df_melted = pd.DataFrame([[l, σ, ir[si, seedi, li][fi]] for si, σ in enumerate(Σ) for seedi, seed in enumerate(seeds) for li, l in enumerate(L)])\n",
    "    df_melted.columns = ['L', 'Sigma', 'Value']\n",
    "    df_melted['ASDS'] = [np.round(np.mean(np.array(s)/mindiff_M),2) for s in df_melted['Sigma']]\n",
    "    \n",
    "    df_melted = df_melted.groupby(['ASDS', 'L']).median()['Value'].round(2)\n",
    "    \n",
    "    if fi>0: print(f'\\n{fee*1000}bp transaction fees')\n",
    "    else: print('No transaction fee')\n",
    "    \n",
    "    print(pd.DataFrame(df_melted).pivot_table(index='ASDS', columns='L', values='Value'))"
   ]
  },
  {
   "cell_type": "markdown",
   "id": "0ade8a44",
   "metadata": {},
   "source": [
    "##### Continuous signal"
   ]
  },
  {
   "cell_type": "code",
   "execution_count": 5,
   "id": "94127e52",
   "metadata": {
    "scrolled": false
   },
   "outputs": [
    {
     "name": "stdout",
     "output_type": "stream",
     "text": [
      "No transaction fee\n",
      "L        0      2      5      8      10\n",
      "ASDS                                   \n",
      "0.42  17.29  15.58  13.36  12.09  11.36\n",
      "0.83  10.61  10.33   9.39   8.78   8.51\n",
      "1.67   5.17   5.39   5.16   4.94   4.85\n",
      "2.50   3.38   3.47   3.39   3.25   3.22\n",
      "3.33   2.49   2.53   2.48   2.41   2.35\n",
      "4.17   1.96   2.00   1.97   1.91   1.88\n",
      "\n",
      "0.5bp transaction fees\n",
      "L       0     2     5     8     10\n",
      "ASDS                              \n",
      "0.42  9.52  7.88  9.04  8.91  8.64\n",
      "0.83  5.96  4.35  6.13  6.41  6.46\n",
      "1.67  2.32  0.89  2.86  3.35  3.46\n",
      "2.50  0.55 -0.04  1.63  2.02  2.15\n",
      "3.33  0.10 -0.30  1.09  1.41  1.50\n",
      "4.17 -0.03 -0.35  0.79  1.05  1.13\n",
      "\n",
      "1.0bp transaction fees\n",
      "L       0     2     5     8     10\n",
      "ASDS                              \n",
      "0.42  4.02  2.38  5.25  5.93  6.09\n",
      "0.83  1.96 -0.62  3.05  4.08  4.45\n",
      "1.67 -0.18 -3.10  0.69  1.79  2.07\n",
      "2.50 -1.87 -3.22 -0.11  0.81  1.10\n",
      "3.33 -2.12 -2.90 -0.31  0.43  0.63\n",
      "4.17 -1.94 -2.56 -0.38  0.22  0.43\n",
      "\n",
      "2.0bp transaction fees\n",
      "L       0     2     5     8     10\n",
      "ASDS                              \n",
      "0.42 -0.88 -2.89  0.17  1.52  2.05\n",
      "0.83 -2.71 -6.17 -1.72  0.17  0.84\n",
      "1.67 -4.42 -8.48 -3.23 -1.18 -0.52\n",
      "2.50 -6.35 -8.01 -3.21 -1.48 -0.92\n",
      "3.33 -6.02 -7.11 -2.89 -1.48 -1.03\n",
      "4.17 -5.45 -6.29 -2.55 -1.39 -1.01\n"
     ]
    }
   ],
   "source": [
    "for fi, fee in enumerate(fees):\n",
    "    df_melted = pd.DataFrame([[l, σ, ir_c[si, seedi, li][fi]] for si, σ in enumerate(Σ) for seedi, seed in enumerate(seeds) for li, l in enumerate(L)])\n",
    "    df_melted.columns = ['L', 'Sigma', 'Value']\n",
    "    df_melted['ASDS'] = [np.round(np.mean(np.array(s)/mindiff_M),2) for s in df_melted['Sigma']]\n",
    "    \n",
    "    df_melted = df_melted.groupby(['ASDS', 'L']).median()['Value'].round(2)\n",
    "    \n",
    "    if fi>0: print(f'\\n{fee*1000}bp transaction fees')\n",
    "    else: print('No transaction fee')\n",
    "    \n",
    "    print(pd.DataFrame(df_melted).pivot_table(index='ASDS', columns='L', values='Value'))"
   ]
  }
 ],
 "metadata": {
  "kernelspec": {
   "display_name": "Python 3 (ipykernel)",
   "language": "python",
   "name": "python3"
  },
  "language_info": {
   "codemirror_mode": {
    "name": "ipython",
    "version": 3
   },
   "file_extension": ".py",
   "mimetype": "text/x-python",
   "name": "python",
   "nbconvert_exporter": "python",
   "pygments_lexer": "ipython3",
   "version": "3.9.13"
  }
 },
 "nbformat": 4,
 "nbformat_minor": 5
}
